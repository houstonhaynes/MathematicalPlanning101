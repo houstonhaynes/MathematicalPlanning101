{
 "nbformat": 4,
 "nbformat_minor": 2,
 "metadata": {
  "language_info": {
   "name": "python",
   "codemirror_mode": {
    "name": "ipython",
    "version": 3
   }
  },
  "orig_nbformat": 2,
  "file_extension": ".py",
  "mimetype": "text/x-python",
  "name": "python",
  "npconvert_exporter": "python",
  "pygments_lexer": "ipython3",
  "version": 3
 },
 "cells": [
  {
   "cell_type": "code",
   "execution_count": 1,
   "metadata": {},
   "outputs": [],
   "source": [
    "# Import the PuLP library\n",
    "from pulp import *\n",
    "\n",
    "# Define the set of animals you will be working with\n",
    "animals = [\"cows\", \"pigs\", \"chickens\"]\n",
    "\n",
    "# Dictionary of Revenue indexed by Animal Type\n",
    "revenue = {\"cows\":100, \"pigs\":50, \"chickens\":8}\n",
    "\n",
    "# Dictionary of Pasture required per animal indexed by Animal Type\n",
    "pasture = {\"cows\":1.0, \"pigs\":0.5, \"chickens\":0.0}\n",
    "\n",
    "# Dictionary of Feed required per animal indexed by Animal Type\n",
    "feed = {\"cows\":0.0, \"pigs\":1.0, \"chickens\":0.1}\n",
    "\n",
    "# Dictionary of the Labor required per animal indexed by Animal Type\n",
    "labor = {\"cows\":9.5, \"pigs\":8, \"chickens\":0.0}\n",
    "\n",
    "# Constants which determine the limits on our resources\n",
    "total_pasture = 1000\n",
    "total_feed = 100\n",
    "total_labor = 7200"
   ]
  },
  {
   "cell_type": "code",
   "execution_count": 2,
   "metadata": {},
   "outputs": [],
   "source": [
    "# Create a Dictionary of Decision Variables indexed by the Animal type\n"
   ]
  },
  {
   "cell_type": "code",
   "execution_count": 3,
   "metadata": {},
   "outputs": [],
   "source": [
    "# Create an instance of the Problem class that we will populate with our \n",
    "# Objective Function and the pertinent constraints\n"
   ]
  },
  {
   "cell_type": "code",
   "execution_count": 4,
   "metadata": {},
   "outputs": [],
   "source": [
    "# Add the Objective Function which is the Total Revenue\n"
   ]
  },
  {
   "cell_type": "code",
   "execution_count": 5,
   "metadata": {},
   "outputs": [],
   "source": [
    "# Add the constraint for the total amount of pasture available\n"
   ]
  },
  {
   "cell_type": "code",
   "execution_count": 6,
   "metadata": {},
   "outputs": [],
   "source": [
    "# Add the constraint for the total amount of feed available\n"
   ]
  },
  {
   "cell_type": "code",
   "execution_count": 7,
   "metadata": {},
   "outputs": [],
   "source": [
    "# Add the constraint for the total amount of labor available\n"
   ]
  },
  {
   "cell_type": "code",
   "execution_count": 8,
   "metadata": {},
   "outputs": [],
   "source": [
    "# Solve the problem\n",
    "\n",
    "# Check the status\n",
    "\n",
    "\n",
    "# It is best practice to always check the status of the solve before using the\n",
    "# values of the decision variables\n"
   ]
  },
  {
   "cell_type": "code",
   "execution_count": 9,
   "metadata": {},
   "outputs": [],
   "source": [
    "# Utilization of resources\n",
    "# pasture_utilization = sum([ pasture[animal]*decVars[animal].varValue for animal in animals]) / total_pasture\n",
    "# print(f\"Land Utilization: {pasture_utilization}\")\n",
    "# feed_utilization = sum([ feed[animal]*decVars[animal].varValue for animal in animals]) / total_feed\n",
    "# print(f\"Feed Utilization: {feed_utilization}\")\n",
    "# labor_utilization = sum([ labor[animal]*decVars[animal].varValue for animal in animals]) / total_labor\n",
    "# print(f\"Labor Utilization: {labor_utilization}\")"
   ]
  },
  {
   "cell_type": "code",
   "execution_count": null,
   "metadata": {},
   "outputs": [],
   "source": []
  }
 ]
}