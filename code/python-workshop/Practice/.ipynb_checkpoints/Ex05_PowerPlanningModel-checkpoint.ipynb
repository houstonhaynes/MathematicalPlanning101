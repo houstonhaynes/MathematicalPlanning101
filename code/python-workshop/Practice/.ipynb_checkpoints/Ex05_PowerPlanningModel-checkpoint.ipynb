{
 "cells": [
  {
   "cell_type": "code",
   "execution_count": 1,
   "metadata": {},
   "outputs": [],
   "source": [
    "# Setup Sets\n",
    "cities = [\"C1\", \"C2\", \"C3\", \"C4\", \"C5\", \"C6\", \"C7\", \"C8\", \"C9\"]\n",
    "\n",
    "power_plants = [\"P1\", \"P2\", \"P3\", \"P4\", \"P5\", \"P6\"]\n",
    "\n",
    "connections = [(\"C1\", \"P1\"), (\"C1\", \"P3\"), (\"C1\",\"P5\"), \\\n",
    "               (\"C2\", \"P1\"), (\"C2\", \"P2\"), (\"C2\",\"P4\"), \\\n",
    "               (\"C3\", \"P2\"), (\"C3\", \"P3\"), (\"C3\",\"P4\"), \\\n",
    "               (\"C4\", \"P2\"), (\"C4\", \"P4\"), (\"C4\",\"P6\"), \\\n",
    "               (\"C5\", \"P2\"), (\"C5\", \"P5\"), (\"C5\",\"P6\"), \\\n",
    "               (\"C6\", \"P3\"), (\"C6\", \"P4\"), (\"C6\",\"P6\"), \\\n",
    "               (\"C7\", \"P1\"), (\"C7\", \"P3\"), (\"C7\",\"P6\"), \\\n",
    "               (\"C8\", \"P2\"), (\"C8\", \"P3\"), (\"C8\",\"P4\"), \\\n",
    "               (\"C9\", \"P3\"), (\"C9\", \"P5\"), (\"C9\",\"P6\")]"
   ]
  },
  {
   "cell_type": "code",
   "execution_count": 2,
   "metadata": {},
   "outputs": [],
   "source": [
    "# Setup Parameters\n",
    "max_power_generation = {\"P1\":100, \"P2\":150, \"P3\":250, \"P4\":125, \"P5\": 175, \"P6\":165}\n",
    "\n",
    "startup_cost = {\"P1\":50, \"P2\":80, \"P3\":90, \"P4\":60, \"P5\": 60, \"P6\":70}\n",
    "\n",
    "power_cost = {\"P1\":2, \"P2\":1.5, \"P3\":1.2, \"P4\":1.8, \"P5\": 0.8, \"P6\":1.1}\n",
    "\n",
    "power_required = {\"C1\":25, \"C2\":35, \"C3\":30, \"C4\":29, \"C5\":40, \"C6\":35, \"C7\":50, \"C8\":45, \"C9\":38}"
   ]
  },
  {
   "cell_type": "code",
   "execution_count": 3,
   "metadata": {},
   "outputs": [],
   "source": [
    "# Import PuLP Library\n"
   ]
  },
  {
   "cell_type": "code",
   "execution_count": 4,
   "metadata": {},
   "outputs": [],
   "source": [
    "# Create Decision Variables\n"
   ]
  },
  {
   "cell_type": "code",
   "execution_count": 5,
   "metadata": {},
   "outputs": [],
   "source": [
    "# Create Problem object\n"
   ]
  },
  {
   "cell_type": "code",
   "execution_count": 6,
   "metadata": {},
   "outputs": [],
   "source": [
    "# Add the Objective Function\n"
   ]
  },
  {
   "cell_type": "code",
   "execution_count": 7,
   "metadata": {},
   "outputs": [],
   "source": [
    "# Add Power Capacity Constraints\n"
   ]
  },
  {
   "cell_type": "code",
   "execution_count": 8,
   "metadata": {},
   "outputs": [],
   "source": [
    "# Add Power Balance Constraints\n"
   ]
  },
  {
   "cell_type": "code",
   "execution_count": 9,
   "metadata": {},
   "outputs": [],
   "source": [
    "# Add Cities Powered Constraints\n"
   ]
  },
  {
   "cell_type": "code",
   "execution_count": 10,
   "metadata": {},
   "outputs": [],
   "source": [
    "# Solve the problem\n"
   ]
  },
  {
   "cell_type": "code",
   "execution_count": 11,
   "metadata": {},
   "outputs": [],
   "source": [
    "# Check the status of the solution\n"
   ]
  },
  {
   "cell_type": "code",
   "execution_count": 12,
   "metadata": {},
   "outputs": [],
   "source": [
    "# Print the results\n"
   ]
  },
  {
   "cell_type": "code",
   "execution_count": 13,
   "metadata": {},
   "outputs": [],
   "source": [
    "# Let's look at the Plant Utilization\n",
    "# for p in power_plants:\n",
    "#     if power_generation[p].varValue > 0:\n",
    "#         utilization = (power_generation[p].varValue / max_power_generation[p]) * 100\n",
    "#         print(f\"Plant: {p} Generation: {power_generation[p].varValue} Utilization: {utilization:.2f}%\")"
   ]
  },
  {
   "cell_type": "code",
   "execution_count": null,
   "metadata": {},
   "outputs": [],
   "source": []
  }
 ],
 "metadata": {
  "file_extension": ".py",
  "kernelspec": {
   "display_name": "Python 3",
   "language": "python",
   "name": "python3"
  },
  "language_info": {
   "codemirror_mode": {
    "name": "ipython",
    "version": 3
   },
   "file_extension": ".py",
   "mimetype": "text/x-python",
   "name": "python",
   "nbconvert_exporter": "python",
   "pygments_lexer": "ipython3",
   "version": "3.7.4"
  },
  "mimetype": "text/x-python",
  "name": "python",
  "npconvert_exporter": "python",
  "pygments_lexer": "ipython3",
  "version": 3
 },
 "nbformat": 4,
 "nbformat_minor": 2
}
