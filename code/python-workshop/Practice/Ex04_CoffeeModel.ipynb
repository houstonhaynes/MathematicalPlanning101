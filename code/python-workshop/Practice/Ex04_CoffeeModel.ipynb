{
 "cells": [
  {
   "cell_type": "code",
   "execution_count": 2,
   "metadata": {},
   "outputs": [],
   "source": [
    "# Problem data\n",
    "locations = [\"Sellwood\", \"Hawthorne\", \"The Pearl\", \"Eastmoreland\", \\\n",
    "                \"St.Johns\", \"Alberta\", \"Nob Hill\", \"Belmont\"]\n",
    "roaster_cost = {\"Sellwood\":150000, \"Hawthorne\":100000, \"The Pearl\":250000, \"Eastmoreland\":120000, \\\n",
    "                \"St.Johns\":130000, \"Alberta\":110000, \"Nob Hill\":135000, \"Belmont\":180000}\n",
    "roaster_capacity = {\"Sellwood\":12, \"Hawthorne\":18, \"The Pearl\":22, \"Eastmoreland\":13, \\\n",
    "                \"St.Johns\":14, \"Alberta\":10, \"Nob Hill\":17, \"Belmont\":12}\n",
    "warehouse_cost = {\"Sellwood\":80000, \"Hawthorne\":90000, \"The Pearl\":120000, \"Eastmoreland\":90000, \\\n",
    "                  \"St.Johns\":85000, \"Alberta\":70000, \"Nob Hill\":85000, \"Belmont\":90000}\n",
    "warehouse_size = {\"Sellwood\":8000, \"Hawthorne\":6000, \"The Pearl\":12000, \"Eastmoreland\":6000, \\\n",
    "                  \"St.Johns\":7000, \"Alberta\":9000, \"Nob Hill\":6000, \"Belmont\":9200}\n",
    "\n",
    "min_total_sqft = 30000\n",
    "min_roasting_capacity = 30"
   ]
  },
  {
   "cell_type": "code",
   "execution_count": null,
   "metadata": {},
   "outputs": [],
   "source": [
    "# Import the PuLP libarary\n"
   ]
  },
  {
   "cell_type": "code",
   "execution_count": null,
   "metadata": {},
   "outputs": [],
   "source": [
    "# Create a Problem\n"
   ]
  },
  {
   "cell_type": "code",
   "execution_count": 3,
   "metadata": {},
   "outputs": [],
   "source": [
    "# Create variables to indicate whether to build a Roaster at a given location\n",
    "\n",
    "\n",
    "# Create variable to indicate whether to build a Warehouse at a given location\n"
   ]
  },
  {
   "cell_type": "code",
   "execution_count": 4,
   "metadata": {},
   "outputs": [],
   "source": [
    "# Sum the cost of Roasters and Warehouses for the Objective Function\n"
   ]
  },
  {
   "cell_type": "code",
   "execution_count": 5,
   "metadata": {},
   "outputs": [],
   "source": [
    "# Total Roasting capacity must be greater than 30 tons\n"
   ]
  },
  {
   "cell_type": "code",
   "execution_count": 6,
   "metadata": {},
   "outputs": [],
   "source": [
    "# Total Warehouse capacity must be greater than 30000 sq.ft.\n"
   ]
  },
  {
   "cell_type": "code",
   "execution_count": 7,
   "metadata": {},
   "outputs": [],
   "source": [
    "# Warehouse must exist where there is a roasting plant\n"
   ]
  },
  {
   "cell_type": "code",
   "execution_count": 8,
   "metadata": {},
   "outputs": [],
   "source": [
    "# Solve the Problem\n"
   ]
  },
  {
   "cell_type": "code",
   "execution_count": null,
   "metadata": {},
   "outputs": [],
   "source": [
    "# Check the Status\n"
   ]
  },
  {
   "cell_type": "code",
   "execution_count": null,
   "metadata": {},
   "outputs": [],
   "source": [
    "# Print the values of the Solution\n"
   ]
  },
  {
   "cell_type": "code",
   "execution_count": 9,
   "metadata": {},
   "outputs": [],
   "source": [
    "# Use the following commands to evaluate the amount of Rosting Capacity\n",
    "# Warehouse Capacity\n",
    "\n",
    "# planned_roaster_capacity = sum([build_roaster[l].varValue * roaster_capacity[l]  for l in locations])\n",
    "# print(f\"Roasting Capacity [tons]: {planned_roaster_capacity}\")\n",
    "# planned_warehouse_capacity = sum([build_warehouse[l].varValue * warehouse_size[l] for l in locations])\n",
    "# print(f\"Warehosue Capacity [sq.ft.]: {planned_warehouse_capacity}\")"
   ]
  }
 ],
 "metadata": {
  "file_extension": ".py",
  "kernelspec": {
   "display_name": "Python 3",
   "language": "python",
   "name": "python3"
  },
  "language_info": {
   "codemirror_mode": {
    "name": "ipython",
    "version": 3
   },
   "file_extension": ".py",
   "mimetype": "text/x-python",
   "name": "python",
   "nbconvert_exporter": "python",
   "pygments_lexer": "ipython3",
   "version": "3.7.4"
  },
  "mimetype": "text/x-python",
  "name": "python",
  "npconvert_exporter": "python",
  "pygments_lexer": "ipython3",
  "version": 3
 },
 "nbformat": 4,
 "nbformat_minor": 2
}