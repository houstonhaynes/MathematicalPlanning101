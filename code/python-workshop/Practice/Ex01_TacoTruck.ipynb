{
 "cells": [
  {
   "cell_type": "code",
   "execution_count": 10,
   "metadata": {},
   "outputs": [],
   "source": [
    "# Step 0: Import the PuLP Library\n",
    "\n",
    "# Example\n",
    "# from pulp import *\n",
    "\n",
    "# Import the PuLP Library\n"
   ]
  },
  {
   "cell_type": "code",
   "execution_count": 11,
   "metadata": {},
   "outputs": [],
   "source": [
    "# Step 1: Create Decision Variables\n",
    "# To create a Decision Variable use the LpVariable() function\n",
    "\n",
    "# Example\n",
    "# x = LpVariable(\"Variable Name\", 0)\n",
    "\n",
    "# Create a decision variable for the Number of Burgers\n",
    "\n",
    "# Create a decision variable for the Number of Tacos\n"
   ]
  },
  {
   "cell_type": "code",
   "execution_count": 12,
   "metadata": {},
   "outputs": [],
   "source": [
    "# Step 2: Create the Problem object\n",
    "\n",
    "# To create a Problem object use the `LpProblem()` function\n",
    "# You give the problem a name and tell it what kind of objective you\n",
    "# have. Maximize or Minimize\n",
    "\n",
    "# Example\n",
    "# problem = LpProblem(\"Problem Name\", LpMaximize)\n",
    "\n",
    "# Create an empty problem that we will add to\n"
   ]
  },
  {
   "cell_type": "code",
   "execution_count": 13,
   "metadata": {},
   "outputs": [],
   "source": [
    "# Step 3: Add the Objective Function to the Problem \n",
    "\n",
    "# We add the Objective Function to the problem by using\n",
    "# the `+=` operator with an expression to the right\n",
    "\n",
    "# Example\n",
    "# problem += 2.0*x\n",
    "\n",
    "# Add the Objective Function\n"
   ]
  },
  {
   "cell_type": "code",
   "execution_count": 14,
   "metadata": {},
   "outputs": [],
   "source": [
    "# Step 4: Add the Constraints to the Problem\n",
    "\n",
    "# We add Constraints to the Problem object using the same\n",
    "# syntax that we used for adding the Objective Function.\n",
    "# The `+=` allows us to add things to the Problem object.\n",
    "\n",
    "# A Constraint has a comparison and a name.\n",
    "\n",
    "# Example\n",
    "# problem += 2.0*x <= 10, \"Constraint Name\"\n",
    "\n",
    "# Create constraint for the max number of Burgers\n",
    "\n",
    "# Create a constraint for the max number of Tacos\n",
    "\n",
    "# Create constraint for the total weight\n"
   ]
  },
  {
   "cell_type": "code",
   "execution_count": 16,
   "metadata": {},
   "outputs": [
    {
     "data": {
      "text/plain": "1"
     },
     "execution_count": 16,
     "metadata": {},
     "output_type": "execute_result"
    }
   ],
   "source": [
    "# Step 5: We solve the Problem\n",
    "\n",
    "# To solve the problem. call the `solve()` method on the\n",
    "# Problem object.\n",
    "\n",
    "# Example\n",
    "# problem.solve()\n",
    "\n",
    "# Solve the problem\n"
   ]
  },
  {
   "cell_type": "code",
   "execution_count": 17,
   "metadata": {},
   "outputs": [
    {
     "name": "stdout",
     "output_type": "stream",
     "text": "Status: Optimal\n"
    }
   ],
   "source": [
    "# Step 6: Check the status of the solution\n",
    "\n",
    "# Best practice is to always check the status of the solution\n",
    "# Some problems may not have solutions. Therefore, the output\n",
    "# will not be meaningful.\n",
    "\n",
    "# Example\n",
    "# status = LpStatus[problem.status]\n",
    "# print(\"Status:\", status)\n",
    "\n",
    "# Check the status\n"
   ]
  },
  {
   "cell_type": "code",
   "execution_count": 18,
   "metadata": {},
   "outputs": [
    {
     "name": "stdout",
     "output_type": "stream",
     "text": "NumberOfBurgers = 300.0\nNumberOfTacos = 100.0\nTotal Revenue =  700.0\n"
    }
   ],
   "source": [
    "# Step 7: Check the Decision Variables\n",
    "\n",
    "# Just because we got a solution doesn't mean it makes any sense.\n",
    "# It is important to look at the output of the model. Math\n",
    "# will find the optimal solution given the model it is given.\n",
    "# If the model has bugs, then the solutions will not make sense.\n",
    "\n",
    "# Access the variables using the `variables()` method on the \n",
    "# Problem object. Use a `for` loop to print out the values of\n",
    "# the Decision Variables. You can access the final value of \n",
    "# the Decision Variable using the `varValue` property and the\n",
    "# Name using the `name` property of the LpVariable object.\n"
   ]
  },
  {
   "cell_type": "code",
   "execution_count": null,
   "metadata": {},
   "outputs": [],
   "source": [
    "# Step 8: Print the value of the Objective Function\n",
    "\n",
    "# It is always good to check the quality of the solution found.\n",
    "# We can get the value of the Objective Function for the \n",
    "# final solution by calling the `value()` function on the \n",
    "# `objective` property of the Problem object.\n",
    "\n",
    "# Example\n",
    "# value(problem.objective)\n"
   ]
  }
 ],
 "metadata": {
  "language_info": {
   "name": "python",
   "codemirror_mode": {
    "name": "ipython",
    "version": 3
   }
  },
  "orig_nbformat": 2,
  "file_extension": ".py",
  "mimetype": "text/x-python",
  "name": "python",
  "npconvert_exporter": "python",
  "pygments_lexer": "ipython3",
  "version": 3
 },
 "nbformat": 4,
 "nbformat_minor": 2
}