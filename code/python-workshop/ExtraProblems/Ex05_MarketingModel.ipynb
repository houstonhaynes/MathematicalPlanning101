{
 "nbformat": 4,
 "nbformat_minor": 2,
 "metadata": {
  "language_info": {
   "name": "python",
   "codemirror_mode": {
    "name": "ipython",
    "version": 3
   }
  },
  "orig_nbformat": 2,
  "file_extension": ".py",
  "mimetype": "text/x-python",
  "name": "python",
  "npconvert_exporter": "python",
  "pygments_lexer": "ipython3",
  "version": 3
 },
 "cells": [
  {
   "cell_type": "code",
   "execution_count": 13,
   "metadata": {},
   "outputs": [],
   "source": [
    "# Setup Sets\n",
    "markets = [\"Facebook\", \"Instagram\", \"Twitter\"]\n",
    "buckets = [1, 2]"
   ]
  },
  {
   "cell_type": "code",
   "execution_count": 14,
   "metadata": {},
   "outputs": [],
   "source": [
    "# Setup Data\n",
    "clicks_per_dollar = {(\"Facebook\", 1):0.10, (\"Facebook\", 2):0.15, \\\n",
    "                     (\"Instagram\", 1):0.12, (\"Instagram\", 2):0.18, \\\n",
    "                     (\"Twitter\", 1):0.11, (\"Twitter\", 2):0.19}\n",
    "conversion_rate = {\"Facebook\":0.10, \\\n",
    "                   \"Instagram\":0.14, \\\n",
    "                   \"Twitter\":0.12 }\n",
    "cost_breakpoint = {\"Facebook\":1000, \\\n",
    "                   \"Instagram\":1500, \\\n",
    "                   \"Twitter\":900 }\n",
    "total_budget = 3000\n",
    "big_m = 1000000"
   ]
  },
  {
   "cell_type": "code",
   "execution_count": 15,
   "metadata": {},
   "outputs": [],
   "source": [
    "# Import the PuLP Library\n",
    "from pulp import *"
   ]
  },
  {
   "cell_type": "code",
   "execution_count": 16,
   "metadata": {},
   "outputs": [],
   "source": [
    "# Create a Problem object\n",
    "problem = LpProblem(\"Marketing Spend\", LpMaximize)"
   ]
  },
  {
   "cell_type": "code",
   "execution_count": 17,
   "metadata": {},
   "outputs": [],
   "source": [
    "# Setup Decision Variables\n",
    "spend = LpVariable.dicts(\"Spend\", \\\n",
    "                         [(m, b) for m in markets for b in buckets], \\\n",
    "                         lowBound=0, upBound=None, cat=LpContinuous)\n",
    "use_bucket_2 = LpVariable.dicts(\"Use_Bucket_2\", markets, 0, 1, LpInteger)"
   ]
  },
  {
   "cell_type": "code",
   "execution_count": 18,
   "metadata": {},
   "outputs": [],
   "source": [
    "# Set objective to maximize Customer Acquisition\n",
    "problem += lpSum([spend[(m,b)]*clicks_per_dollar[(m,b)]*conversion_rate[m] \\\n",
    "                 for m in markets \\\n",
    "                 for b in buckets])"
   ]
  },
  {
   "cell_type": "code",
   "execution_count": 19,
   "metadata": {},
   "outputs": [],
   "source": [
    "# Create constraint for total budget\n",
    "problem += lpSum([spend[(m,b)] for m in markets for b in buckets]) <= total_budget, \"Budget Constraint\""
   ]
  },
  {
   "cell_type": "code",
   "execution_count": 20,
   "metadata": {},
   "outputs": [],
   "source": [
    "# If Bucket 1 is filled, can use Bucket 2\n",
    "for m in markets:\n",
    "    problem += spend[(m,1)] >= cost_breakpoint[m] * use_bucket_2[m], f\"Bucket1Filled_{m}\""
   ]
  },
  {
   "cell_type": "code",
   "execution_count": 21,
   "metadata": {},
   "outputs": [],
   "source": [
    "# Bucket 2 can be used if use_bucket_2 turned on\n",
    "for m in markets:\n",
    "    problem += spend[(m,2)] <= big_m * use_bucket_2[m], f\"Bucket2Available_{m}\""
   ]
  },
  {
   "cell_type": "code",
   "execution_count": 22,
   "metadata": {},
   "outputs": [
    {
     "data": {
      "text/plain": "1"
     },
     "execution_count": 22,
     "metadata": {},
     "output_type": "execute_result"
    }
   ],
   "source": [
    "problem.solve()"
   ]
  },
  {
   "cell_type": "code",
   "execution_count": 23,
   "metadata": {},
   "outputs": [
    {
     "name": "stdout",
     "output_type": "stream",
     "text": "Status: Optimal\nSpend_('Facebook',_1) = 0.0\nSpend_('Facebook',_2) = 0.0\nSpend_('Instagram',_1) = 1500.0\nSpend_('Instagram',_2) = 1500.0\nSpend_('Twitter',_1) = 0.0\nSpend_('Twitter',_2) = 0.0\nUse_Bucket_2_Facebook = 0.0\nUse_Bucket_2_Instagram = 1.0\nUse_Bucket_2_Twitter = 0.0\nTotal Conversions = 63\n"
    }
   ],
   "source": [
    "# Check the status\n",
    "status = LpStatus[problem.status]\n",
    "print(\"Status:\", LpStatus[problem.status])\n",
    "\n",
    "# It is best practice to always check the status of the solve before using the\n",
    "# values of the decision variables\n",
    "if status == \"Optimal\":\n",
    "    for v in problem.variables():\n",
    "        print(v.name, \"=\", v.varValue)\n",
    "    print(f\"Total Conversions = {value(problem.objective):n}\")"
   ]
  },
  {
   "cell_type": "code",
   "execution_count": null,
   "metadata": {},
   "outputs": [],
   "source": []
  }
 ]
}