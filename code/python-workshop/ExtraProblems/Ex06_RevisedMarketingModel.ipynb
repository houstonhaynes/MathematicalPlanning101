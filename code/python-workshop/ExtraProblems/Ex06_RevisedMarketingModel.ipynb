{
 "nbformat": 4,
 "nbformat_minor": 2,
 "metadata": {
  "language_info": {
   "name": "python",
   "codemirror_mode": {
    "name": "ipython",
    "version": 3
   }
  },
  "orig_nbformat": 2,
  "file_extension": ".py",
  "mimetype": "text/x-python",
  "name": "python",
  "npconvert_exporter": "python",
  "pygments_lexer": "ipython3",
  "version": 3
 },
 "cells": [
  {
   "cell_type": "code",
   "execution_count": 183,
   "metadata": {},
   "outputs": [],
   "source": [
    "from pulp import *\n",
    "problem = LpProblem(\"Marketing Spend\", LpMaximize)"
   ]
  },
  {
   "cell_type": "code",
   "execution_count": 184,
   "metadata": {},
   "outputs": [],
   "source": [
    "# Setup Sets\n",
    "markets = [\"Facebook\", \"Instagram\", \"Twitter\"]\n",
    "saturation_level = [1, 2]\n",
    "buckets = [1, 2]"
   ]
  },
  {
   "cell_type": "code",
   "execution_count": 185,
   "metadata": {},
   "outputs": [],
   "source": [
    "# Setup Data\n",
    "clicks_per_dollar = {(\"Facebook\", 1):0.10, (\"Facebook\", 2):0.20, \\\n",
    "                         (\"Instagram\", 1):0.12, (\"Instagram\", 2):0.18, \\\n",
    "                         (\"Twitter\", 1):0.11, (\"Twitter\", 2):0.19}\n",
    "conversion_rate = {(\"Facebook\", 1):0.10, (\"Facebook\", 2):0.02, \\\n",
    "                   (\"Instagram\", 1):0.14, (\"Instagram\", 2):0.05, \\\n",
    "                   (\"Twitter\", 1):0.12, (\"Twitter\", 2):0.05 }\n",
    "cost_breakpoint = {\"Facebook\":1000, \\\n",
    "                   \"Instagram\":1500, \\\n",
    "                   \"Twitter\":900 }\n",
    "saturation_point = {\"Facebook\":100, \\\n",
    "                    \"Instagram\":50, \\\n",
    "                    \"Twitter\":50}\n",
    "total_budget = 3000\n",
    "big_m = 1000000"
   ]
  },
  {
   "cell_type": "code",
   "execution_count": 186,
   "metadata": {},
   "outputs": [],
   "source": [
    "# Setup Decision Variables\n",
    "spend = LpVariable.dicts(\"spend\", \\\n",
    "                         [(m,b) for m in markets for b in buckets], \\\n",
    "                         lowBound=0, upBound=None, cat='Continous')\n",
    "\n",
    "clicks = LpVariable.dicts(\"clicks\", \\\n",
    "                          [(m,s) for m in markets for s in saturation_level], \\\n",
    "                          lowBound = 0, upBound=None, cat='Continuous')\n",
    "is_saturated = LpVariable.dicts(\"is_saturated\", markets, lowBound=0, upBound=None, cat='Continous')\n",
    "use_bucket_2 = LpVariable.dicts(\"use_bucket_2\", markets, 0, 1, LpInteger)"
   ]
  },
  {
   "cell_type": "code",
   "execution_count": 187,
   "metadata": {},
   "outputs": [],
   "source": [
    "# Set objective to maximize Customer Acquisition\n",
    "problem += lpSum([clicks[m,s] * conversion_rate[m,s] \\\n",
    "                    for m in markets \\\n",
    "                    for s in saturation_level])\n"
   ]
  },
  {
   "cell_type": "code",
   "execution_count": 188,
   "metadata": {},
   "outputs": [],
   "source": [
    "# Create constraint for total budget\n",
    "problem += lpSum([spend[(m,b)] for m in markets for b in buckets]) <= total_budget, \"Budget Constraint\""
   ]
  },
  {
   "cell_type": "code",
   "execution_count": 189,
   "metadata": {},
   "outputs": [],
   "source": [
    "# If Bucket 1 is filled, can use Bucket 2\n",
    "for m in markets:\n",
    "    problem += spend[(m,1)] >= cost_breakpoint[m] * use_bucket_2[m], f\"Bucket1Filled_{m}\""
   ]
  },
  {
   "cell_type": "code",
   "execution_count": 190,
   "metadata": {},
   "outputs": [],
   "source": [
    "# Bucket 2 can be used if use_bucket_2 turned on\n",
    "for m in markets:\n",
    "    problem += spend[(m,2)] <= big_m * use_bucket_2[m], f\"Bucket2Available_{m}\""
   ]
  },
  {
   "cell_type": "code",
   "execution_count": 191,
   "metadata": {},
   "outputs": [],
   "source": [
    "# Impressions for Market material balance\n",
    "for m in markets:\n",
    "    problem += lpSum([clicks[m,s] for s in saturation_level]) == lpSum([spend[m,b]*clicks_per_dollar[m,b] for b in buckets]), f\"ImpressionBalance:{m}\""
   ]
  },
  {
   "cell_type": "code",
   "execution_count": 192,
   "metadata": {},
   "outputs": [],
   "source": [
    "# Impressions for Saturation Level 1 cannot exceed Saturation Point\n",
    "for m in markets:\n",
    "    problem += clicks[(m,1)] <= saturation_point[m], f\"SaturationLevel:{m}\""
   ]
  },
  {
   "cell_type": "code",
   "execution_count": 193,
   "metadata": {},
   "outputs": [
    {
     "data": {
      "text/plain": "1"
     },
     "execution_count": 193,
     "metadata": {},
     "output_type": "execute_result"
    }
   ],
   "source": [
    "problem.solve()"
   ]
  },
  {
   "cell_type": "code",
   "execution_count": 194,
   "metadata": {},
   "outputs": [
    {
     "name": "stdout",
     "output_type": "stream",
     "text": "Status: Optimal\nclicks_('Facebook',_1) = 100.0\nclicks_('Facebook',_2) = 0.0\nclicks_('Instagram',_1) = 50.0\nclicks_('Instagram',_2) = 0.0\nclicks_('Twitter',_1) = 50.0\nclicks_('Twitter',_2) = 178.83333\nspend_('Facebook',_1) = 1000.0\nspend_('Facebook',_2) = 0.0\nspend_('Instagram',_1) = 416.66667\nspend_('Instagram',_2) = 0.0\nspend_('Twitter',_1) = 900.0\nspend_('Twitter',_2) = 683.33333\nuse_bucket_2_Facebook = 0.0\nuse_bucket_2_Instagram = 0.0\nuse_bucket_2_Twitter = 1.0\nTotal Conversions =  31.9416665\n"
    }
   ],
   "source": [
    "# Check the status\n",
    "status = LpStatus[problem.status]\n",
    "print(\"Status:\", LpStatus[problem.status])\n",
    "\n",
    "# It is best practice to always check the status of the solve before using the\n",
    "# values of the decision variables\n",
    "if status == \"Optimal\":\n",
    "    for v in problem.variables():\n",
    "        print(v.name, \"=\", v.varValue)\n",
    "    print(\"Total Conversions = \", value(problem.objective))"
   ]
  },
  {
   "cell_type": "code",
   "execution_count": 195,
   "metadata": {},
   "outputs": [
    {
     "name": "stdout",
     "output_type": "stream",
     "text": "Conversions for Facebook: 10\nConversions for Instagram: 7\nConversions for Twitter: 14.9417\n"
    }
   ],
   "source": [
    "# See where we expect the conversions to come from\n",
    "for m in markets:\n",
    "    estimated_conversions = sum([clicks[m,s].varValue * conversion_rate[m,s] for s in saturation_level])\n",
    "    print(f\"Conversions for {m}: {estimated_conversions:n}\")"
   ]
  },
  {
   "cell_type": "code",
   "execution_count": null,
   "metadata": {},
   "outputs": [],
   "source": []
  }
 ]
}