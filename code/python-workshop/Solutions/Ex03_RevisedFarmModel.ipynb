{
 "cells": [
  {
   "cell_type": "code",
   "execution_count": 1,
   "metadata": {},
   "outputs": [],
   "source": [
    "# Define the set of animals you will be working with\n",
    "animals = [\"cows\", \"pigs\", \"chickens\"]\n",
    "\n",
    "# Dictionary of Revenue indexed by Animal Type\n",
    "revenue = {\"cows\":100, \"pigs\":50, \"chickens\":8}\n",
    "\n",
    "# Dictionary of Pasture required per animal indexed by Animal Type\n",
    "pasture = {\"cows\":1.0, \"pigs\":0.5, \"chickens\":0.0}\n",
    "\n",
    "# Dictionary of Feed required per animal indexed by Animal Type\n",
    "feed = {\"cows\":0.0, \"pigs\":1.0, \"chickens\":0.1}\n",
    "\n",
    "# Dictionary of the Labor required per animal indexed by Animal Type\n",
    "labor = {\"cows\":9.5, \"pigs\":8, \"chickens\":0.0}\n",
    "\n",
    "# Constants which determine the limits on our resources\n",
    "total_pasture = 1000\n",
    "total_feed = 100\n",
    "total_labor = 7200"
   ]
  },
  {
   "cell_type": "code",
   "execution_count": 2,
   "metadata": {},
   "outputs": [],
   "source": [
    "# Import the PuLP library\n",
    "from pulp import *"
   ]
  },
  {
   "cell_type": "code",
   "execution_count": 3,
   "metadata": {},
   "outputs": [],
   "source": [
    "# Create a Dictionary of Decision Variables indexed by the Animal type\n",
    "decVars = LpVariable.dicts(\"number\", animals, lowBound=0, upBound=None, cat='Continous')"
   ]
  },
  {
   "cell_type": "code",
   "execution_count": 4,
   "metadata": {},
   "outputs": [],
   "source": [
    "# Create an instance of the Problem class that we will populate with our \n",
    "# Objective Function and the pertinent constraints\n",
    "problem = LpProblem(\"Farm Problem\",LpMaximize)"
   ]
  },
  {
   "cell_type": "code",
   "execution_count": 5,
   "metadata": {},
   "outputs": [],
   "source": [
    "# Add the Objective Function which is the Total Revenue\n",
    "problem += lpSum([revenue[animal]*decVars[animal] for animal in animals])"
   ]
  },
  {
   "cell_type": "code",
   "execution_count": 6,
   "metadata": {},
   "outputs": [],
   "source": [
    "# Add the constraint for the total amount of pasture available\n",
    "problem += lpSum([pasture[animal]*decVars[animal] for animal in animals]) <= total_pasture, \"Total Pasture\""
   ]
  },
  {
   "cell_type": "code",
   "execution_count": 7,
   "metadata": {},
   "outputs": [],
   "source": [
    "# Add the constraint for the total amount of feed available\n",
    "problem += lpSum([feed[animal]*decVars[animal] for animal in animals]) <= total_feed, \"Total Feed\""
   ]
  },
  {
   "cell_type": "code",
   "execution_count": 8,
   "metadata": {},
   "outputs": [],
   "source": [
    "# Add the constraint for the total amount of labor available\n",
    "problem += lpSum([labor[animal]*decVars[animal] for animal in animals]) <= total_labor, \"Total Labor\""
   ]
  },
  {
   "cell_type": "code",
   "execution_count": 9,
   "metadata": {},
   "outputs": [
    {
     "name": "stdout",
     "output_type": "stream",
     "text": [
      "Status: Optimal\n",
      "number_chickens = 1000.0\n",
      "number_cows = 757.89474\n",
      "number_pigs = 0.0\n",
      "Total Revenue =  $83,789.47\n"
     ]
    }
   ],
   "source": [
    "# Solve the problem\n",
    "problem.solve()\n",
    "# Check the status\n",
    "status = LpStatus[problem.status]\n",
    "print(\"Status:\", LpStatus[problem.status])\n",
    "\n",
    "# It is best practice to always check the status of the solve before using the\n",
    "# values of the decision variables\n",
    "if status == \"Optimal\":\n",
    "    for v in problem.variables():\n",
    "        print(v.name, \"=\", v.varValue)\n",
    "    print(\"Total Revenue = \", '${:,.2f}'.format(value(problem.objective)))"
   ]
  },
  {
   "cell_type": "code",
   "execution_count": 10,
   "metadata": {},
   "outputs": [
    {
     "name": "stdout",
     "output_type": "stream",
     "text": [
      "Land Utilization: 0.75789474\n",
      "Feed Utilization: 1.0\n",
      "Labor Utilization: 1.0000000041666666\n"
     ]
    }
   ],
   "source": [
    "# Utilization of resources\n",
    "pasture_utilization = sum([ pasture[animal]*decVars[animal].varValue for animal in animals]) / total_pasture\n",
    "print(f\"Land Utilization: {pasture_utilization}\")\n",
    "feed_utilization = sum([ feed[animal]*decVars[animal].varValue for animal in animals]) / total_feed\n",
    "print(f\"Feed Utilization: {feed_utilization}\")\n",
    "labor_utilization = sum([ labor[animal]*decVars[animal].varValue for animal in animals]) / total_labor\n",
    "print(f\"Labor Utilization: {labor_utilization}\")"
   ]
  },
  {
   "cell_type": "code",
   "execution_count": null,
   "metadata": {},
   "outputs": [],
   "source": []
  }
 ],
 "metadata": {
  "file_extension": ".py",
  "kernelspec": {
   "display_name": "Python 3",
   "language": "python",
   "name": "python3"
  },
  "language_info": {
   "codemirror_mode": {
    "name": "ipython",
    "version": 3
   },
   "file_extension": ".py",
   "mimetype": "text/x-python",
   "name": "python",
   "nbconvert_exporter": "python",
   "pygments_lexer": "ipython3",
   "version": "3.7.6"
  },
  "mimetype": "text/x-python",
  "name": "python",
  "npconvert_exporter": "python",
  "pygments_lexer": "ipython3",
  "version": 3
 },
 "nbformat": 4,
 "nbformat_minor": 4
}
