{
 "nbformat": 4,
 "nbformat_minor": 2,
 "metadata": {
  "language_info": {
   "name": "python",
   "codemirror_mode": {
    "name": "ipython",
    "version": 3
   }
  },
  "orig_nbformat": 2,
  "file_extension": ".py",
  "mimetype": "text/x-python",
  "name": "python",
  "npconvert_exporter": "python",
  "pygments_lexer": "ipython3",
  "version": 3
 },
 "cells": [
  {
   "cell_type": "code",
   "execution_count": 1,
   "metadata": {},
   "outputs": [],
   "source": [
    "from pulp import *\n",
    "problem = LpProblem(\"Farm Problem\", LpMaximize)"
   ]
  },
  {
   "cell_type": "code",
   "execution_count": 2,
   "metadata": {},
   "outputs": [],
   "source": [
    "cows = LpVariable(\"cows\",0)\n",
    "pigs = LpVariable(\"pigs\",0)\n",
    "chickens = LpVariable(\"chickens\",0)"
   ]
  },
  {
   "cell_type": "code",
   "execution_count": 3,
   "metadata": {},
   "outputs": [],
   "source": [
    "# Set the objective function\n",
    "problem += 100*cows + 50*pigs + 8*chickens"
   ]
  },
  {
   "cell_type": "code",
   "execution_count": 4,
   "metadata": {},
   "outputs": [],
   "source": [
    "# Add constraint for amount of Pasture\n",
    "problem += 1.0*cows + 0.5*pigs + 0.0*chickens <= 1000, \"Pasture Constraint\""
   ]
  },
  {
   "cell_type": "code",
   "execution_count": 5,
   "metadata": {},
   "outputs": [],
   "source": [
    "# Add constraint for the amount of Feed\n",
    "problem += 0.0*cows + 1.0*pigs + 0.1*chickens <= 100, \"Feed Constraint\""
   ]
  },
  {
   "cell_type": "code",
   "execution_count": 6,
   "metadata": {},
   "outputs": [],
   "source": [
    "# Add constraint for the amount of Labor\n",
    "problem += 9.5*cows + 8.0*pigs + 0.0*chickens <= 7200, \"Labor Constraint\""
   ]
  },
  {
   "cell_type": "code",
   "execution_count": 7,
   "metadata": {},
   "outputs": [
    {
     "data": {
      "text/plain": "1"
     },
     "execution_count": 7,
     "metadata": {},
     "output_type": "execute_result"
    }
   ],
   "source": [
    "# Solve the problem\n",
    "problem.solve()"
   ]
  },
  {
   "cell_type": "code",
   "execution_count": 11,
   "metadata": {},
   "outputs": [
    {
     "name": "stdout",
     "output_type": "stream",
     "text": "Status: Optimal\nchickens = 1000.0\ncows = 757.89474\npigs = 0.0\nTotal Revenue =  $83,789.47\n"
    }
   ],
   "source": [
    "# Check the status\n",
    "status = LpStatus[problem.status]\n",
    "print(\"Status:\", LpStatus[problem.status])\n",
    "\n",
    "# It is best practice to always check the status of the solve before using the\n",
    "# values of the decision variables\n",
    "if status == \"Optimal\":\n",
    "    for v in problem.variables():\n",
    "        print(v.name, \"=\", v.varValue)\n",
    "    print(\"Total Revenue = \", '${:,.2f}'.format(value(problem.objective)))"
   ]
  },
  {
   "cell_type": "code",
   "execution_count": null,
   "metadata": {},
   "outputs": [],
   "source": []
  }
 ]
}