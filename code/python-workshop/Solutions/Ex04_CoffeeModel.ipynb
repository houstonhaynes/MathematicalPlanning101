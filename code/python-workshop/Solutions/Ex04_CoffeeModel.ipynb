{
 "cells": [
  {
   "cell_type": "code",
   "execution_count": 11,
   "metadata": {},
   "outputs": [],
   "source": [
    "# Problem data\n",
    "locations = [\"Sellwood\", \"Hawthorne\", \"The Pearl\", \"Eastmoreland\", \\\n",
    "                \"St.Johns\", \"Alberta\", \"Nob Hill\", \"Belmont\"]\n",
    "roaster_cost = {\"Sellwood\":150000, \"Hawthorne\":100000, \"The Pearl\":250000, \"Eastmoreland\":120000, \\\n",
    "                \"St.Johns\":130000, \"Alberta\":110000, \"Nob Hill\":135000, \"Belmont\":180000}\n",
    "roaster_capacity = {\"Sellwood\":12, \"Hawthorne\":18, \"The Pearl\":22, \"Eastmoreland\":13, \\\n",
    "                \"St.Johns\":14, \"Alberta\":10, \"Nob Hill\":17, \"Belmont\":12}\n",
    "warehouse_cost = {\"Sellwood\":80000, \"Hawthorne\":90000, \"The Pearl\":120000, \"Eastmoreland\":90000, \\\n",
    "                  \"St.Johns\":85000, \"Alberta\":70000, \"Nob Hill\":85000, \"Belmont\":90000}\n",
    "warehouse_size = {\"Sellwood\":8000, \"Hawthorne\":6000, \"The Pearl\":12000, \"Eastmoreland\":6000, \\\n",
    "                  \"St.Johns\":7000, \"Alberta\":9000, \"Nob Hill\":6000, \"Belmont\":9200}\n",
    "\n",
    "min_total_sqft = 30000\n",
    "min_roasting_capacity = 30"
   ]
  },
  {
   "cell_type": "code",
   "execution_count": 12,
   "metadata": {},
   "outputs": [],
   "source": [
    "# Import PuLP Library\n",
    "from pulp import *"
   ]
  },
  {
   "cell_type": "code",
   "execution_count": 13,
   "metadata": {},
   "outputs": [],
   "source": [
    "# Create a Problem object\n",
    "problem = LpProblem(\"Coffee Planning\", LpMinimize)"
   ]
  },
  {
   "cell_type": "code",
   "execution_count": 14,
   "metadata": {},
   "outputs": [],
   "source": [
    "# Create variables to indicate whether to build a Roaster at a given location\n",
    "build_roaster = LpVariable.dicts(\"Build_Roaster\", locations, 0, 1, LpInteger)\n",
    "\n",
    "# Create variable to indicate whether to build a Warehouse at a given location\n",
    "build_warehouse = LpVariable.dicts(\"Build_Warehouse\", locations, 0, 1, LpInteger)"
   ]
  },
  {
   "cell_type": "code",
   "execution_count": 15,
   "metadata": {},
   "outputs": [],
   "source": [
    "# Sum the cost of Roasters and Warehouses for the Objective Function\n",
    "problem += \\\n",
    "    lpSum([ roaster_cost[l] * build_roaster[l] + warehouse_cost[l] * build_warehouse[l] \\\n",
    "            for l in locations])"
   ]
  },
  {
   "cell_type": "code",
   "execution_count": 16,
   "metadata": {},
   "outputs": [],
   "source": [
    "# Total Roasting capacity must be greater than 30 tons\n",
    "problem += lpSum([ roaster_capacity[l] * build_roaster[l] for l in locations]) >= min_roasting_capacity, \"Min Roasting Capacity\""
   ]
  },
  {
   "cell_type": "code",
   "execution_count": 17,
   "metadata": {},
   "outputs": [],
   "source": [
    "# Total Warehouse capacity must be greater than 30000 sq.ft.\n",
    "problem += lpSum([ warehouse_size[l] * build_warehouse[l] for l in locations]) >= min_total_sqft, \"Min Warehouse Capacity\""
   ]
  },
  {
   "cell_type": "code",
   "execution_count": 18,
   "metadata": {},
   "outputs": [],
   "source": [
    "# Warehouse must exist where there is a roasting plant\n",
    "for l in locations:\n",
    "    problem += build_roaster[l] <= build_warehouse[l], f\"Must Have Warehouse: {l}\""
   ]
  },
  {
   "cell_type": "code",
   "execution_count": 19,
   "metadata": {},
   "outputs": [
    {
     "name": "stdout",
     "output_type": "stream",
     "text": "Status: Optimal\nBuild_Roaster_Hawthorne = 1.0\nBuild_Roaster_St.Johns = 1.0\nBuild_Warehouse_Alberta = 1.0\nBuild_Warehouse_Hawthorne = 1.0\nBuild_Warehouse_Sellwood = 1.0\nBuild_Warehouse_St.Johns = 1.0\nTotal Cost =  $555,000.00\n"
    }
   ],
   "source": [
    "problem.solve()\n",
    "# Check the status\n",
    "print(\"Status:\", LpStatus[problem.status])\n",
    "for v in problem.variables():\n",
    "    if v.varValue == 1:\n",
    "        print(v.name, \"=\", v.varValue)\n",
    "print(\"Total Cost = \", \"${:,.2f}\".format(value(problem.objective)))"
   ]
  },
  {
   "cell_type": "code",
   "execution_count": 20,
   "metadata": {},
   "outputs": [
    {
     "name": "stdout",
     "output_type": "stream",
     "text": "Roasting Capacity [tons]: 32.0\nWarehosue Capacity [sq.ft.]: 30000.0\n"
    }
   ],
   "source": [
    "planned_roaster_capacity = sum([build_roaster[l].varValue * roaster_capacity[l]  for l in locations])\n",
    "print(f\"Roasting Capacity [tons]: {planned_roaster_capacity}\")\n",
    "planned_warehouse_capacity = sum([build_warehouse[l].varValue * warehouse_size[l] for l in locations])\n",
    "print(f\"Warehosue Capacity [sq.ft.]: {planned_warehouse_capacity}\")"
   ]
  },
  {
   "cell_type": "code",
   "execution_count": null,
   "metadata": {},
   "outputs": [],
   "source": []
  }
 ],
 "metadata": {
  "file_extension": ".py",
  "kernelspec": {
   "display_name": "Python 3",
   "language": "python",
   "name": "python3"
  },
  "language_info": {
   "codemirror_mode": {
    "name": "ipython",
    "version": 3
   },
   "file_extension": ".py",
   "mimetype": "text/x-python",
   "name": "python",
   "nbconvert_exporter": "python",
   "pygments_lexer": "ipython3",
   "version": "3.7.4"
  },
  "mimetype": "text/x-python",
  "name": "python",
  "npconvert_exporter": "python",
  "pygments_lexer": "ipython3",
  "version": 3
 },
 "nbformat": 4,
 "nbformat_minor": 2
}