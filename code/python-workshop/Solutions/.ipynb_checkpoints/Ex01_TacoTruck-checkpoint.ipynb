{
 "cells": [
  {
   "cell_type": "code",
   "execution_count": 10,
   "metadata": {},
   "outputs": [],
   "source": [
    "# Import the PuLP library\n",
    "from pulp import *"
   ]
  },
  {
   "cell_type": "code",
   "execution_count": 11,
   "metadata": {},
   "outputs": [],
   "source": [
    "#Create a decision variable for the Number of Burgers\n",
    "x1 = LpVariable(\"NumberOfBurgers\",0)\n",
    "# Create a decision variable for the Number of Tacos\n",
    "x2 = LpVariable(\"NumberOfTacos\",0)"
   ]
  },
  {
   "cell_type": "code",
   "execution_count": 12,
   "metadata": {},
   "outputs": [],
   "source": [
    "# Create an empty problem that we will add to\n",
    "problem = LpProblem(\"Food Truck Problem\",LpMaximize)"
   ]
  },
  {
   "cell_type": "code",
   "execution_count": 13,
   "metadata": {},
   "outputs": [],
   "source": [
    "# Set the Objective Function\n",
    "problem += 2.0*x1 + 1.0*x2"
   ]
  },
  {
   "cell_type": "code",
   "execution_count": 14,
   "metadata": {},
   "outputs": [],
   "source": [
    "# Create constraint for the max number of Burgers\n",
    "problem += x1 <= 300, \"Max Burgers\"\n",
    "# Create a constraint for the max number of Tacos\n",
    "problem += x2 <= 200, \"Max Tacos\""
   ]
  },
  {
   "cell_type": "code",
   "execution_count": 15,
   "metadata": {},
   "outputs": [],
   "source": [
    "# Create constraint for the total weight\n",
    "problem += 1.0 * x1 + 1.5 * x2 <= 450, \"Max Weight\""
   ]
  },
  {
   "cell_type": "code",
   "execution_count": 16,
   "metadata": {},
   "outputs": [
    {
     "data": {
      "text/plain": [
       "1"
      ]
     },
     "execution_count": 16,
     "metadata": {},
     "output_type": "execute_result"
    }
   ],
   "source": [
    "# Solve the problem\n",
    "problem.solve()"
   ]
  },
  {
   "cell_type": "code",
   "execution_count": 17,
   "metadata": {},
   "outputs": [
    {
     "name": "stdout",
     "output_type": "stream",
     "text": [
      "Status: Optimal\n"
     ]
    }
   ],
   "source": [
    "# Check the status\n",
    "print(\"Status:\", LpStatus[problem.status])"
   ]
  },
  {
   "cell_type": "code",
   "execution_count": 18,
   "metadata": {},
   "outputs": [
    {
     "name": "stdout",
     "output_type": "stream",
     "text": [
      "NumberOfBurgers = 300.0\n",
      "NumberOfTacos = 100.0\n",
      "Total Revenue =  700.0\n"
     ]
    }
   ],
   "source": [
    "for v in problem.variables():\n",
    "    print(v.name, \"=\", v.varValue)\n",
    "print(\"Total Revenue = \", value(problem.objective))"
   ]
  },
  {
   "cell_type": "code",
   "execution_count": null,
   "metadata": {},
   "outputs": [],
   "source": []
  }
 ],
 "metadata": {
  "file_extension": ".py",
  "kernelspec": {
   "display_name": "Python 3",
   "language": "python",
   "name": "python3"
  },
  "language_info": {
   "codemirror_mode": {
    "name": "ipython",
    "version": 3
   },
   "file_extension": ".py",
   "mimetype": "text/x-python",
   "name": "python",
   "nbconvert_exporter": "python",
   "pygments_lexer": "ipython3",
   "version": "3.7.4"
  },
  "mimetype": "text/x-python",
  "name": "python",
  "npconvert_exporter": "python",
  "pygments_lexer": "ipython3",
  "version": 3
 },
 "nbformat": 4,
 "nbformat_minor": 2
}
