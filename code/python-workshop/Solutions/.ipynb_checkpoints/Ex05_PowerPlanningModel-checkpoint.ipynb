{
 "cells": [
  {
   "cell_type": "code",
   "execution_count": 29,
   "metadata": {},
   "outputs": [],
   "source": [
    "# Setup Sets\n",
    "cities = [\"C1\", \"C2\", \"C3\", \"C4\", \"C5\", \"C6\", \"C7\", \"C8\", \"C9\"]\n",
    "\n",
    "power_plants = [\"P1\", \"P2\", \"P3\", \"P4\", \"P5\", \"P6\"]\n",
    "\n",
    "connections = [(\"C1\", \"P1\"), (\"C1\", \"P3\"), (\"C1\",\"P5\"), \\\n",
    "               (\"C2\", \"P1\"), (\"C2\", \"P2\"), (\"C2\",\"P4\"), \\\n",
    "               (\"C3\", \"P2\"), (\"C3\", \"P3\"), (\"C3\",\"P4\"), \\\n",
    "               (\"C4\", \"P2\"), (\"C4\", \"P4\"), (\"C4\",\"P6\"), \\\n",
    "               (\"C5\", \"P2\"), (\"C5\", \"P5\"), (\"C5\",\"P6\"), \\\n",
    "               (\"C6\", \"P3\"), (\"C6\", \"P4\"), (\"C6\",\"P6\"), \\\n",
    "               (\"C7\", \"P1\"), (\"C7\", \"P3\"), (\"C7\",\"P6\"), \\\n",
    "               (\"C8\", \"P2\"), (\"C8\", \"P3\"), (\"C8\",\"P4\"), \\\n",
    "               (\"C9\", \"P3\"), (\"C9\", \"P5\"), (\"C9\",\"P6\")]"
   ]
  },
  {
   "cell_type": "code",
   "execution_count": 30,
   "metadata": {},
   "outputs": [],
   "source": [
    "# Setup Parameters\n",
    "max_power_generation = {\"P1\":100, \"P2\":150, \"P3\":250, \"P4\":125, \"P5\": 175, \"P6\":165}\n",
    "\n",
    "startup_cost = {\"P1\":50, \"P2\":80, \"P3\":90, \"P4\":60, \"P5\": 60, \"P6\":70}\n",
    "\n",
    "power_cost = {\"P1\":2, \"P2\":1.5, \"P3\":1.2, \"P4\":1.8, \"P5\": 0.8, \"P6\":1.1}\n",
    "\n",
    "power_required = {\"C1\":25, \"C2\":35, \"C3\":30, \"C4\":29, \"C5\":40, \"C6\":35, \"C7\":50, \"C8\":45, \"C9\":38}"
   ]
  },
  {
   "cell_type": "code",
   "execution_count": 31,
   "metadata": {},
   "outputs": [],
   "source": [
    "# Import PuLP Library\n",
    "from pulp import *"
   ]
  },
  {
   "cell_type": "code",
   "execution_count": 32,
   "metadata": {},
   "outputs": [],
   "source": [
    "# Create Decision Variables\n",
    "run_power_plant = LpVariable.dicts(\"StartPlant\", power_plants, 0, 1, LpInteger)\n",
    "\n",
    "power_generation = LpVariable.dicts(\"PowerGeneration\", power_plants, 0, None, LpContinuous)\n",
    "\n",
    "power_sent = LpVariable.dicts(\"PowerSent\", connections, 0, None, LpContinuous)"
   ]
  },
  {
   "cell_type": "code",
   "execution_count": 33,
   "metadata": {},
   "outputs": [],
   "source": [
    "# Create Problem object\n",
    "problem = LpProblem(\"PowerPlanning\", LpMinimize)"
   ]
  },
  {
   "cell_type": "code",
   "execution_count": 34,
   "metadata": {},
   "outputs": [],
   "source": [
    "# Add the Objective Function\n",
    "problem += lpSum([run_power_plant[p] * startup_cost[p] + power_generation[p] * power_cost[p] for p in power_plants])"
   ]
  },
  {
   "cell_type": "code",
   "execution_count": 35,
   "metadata": {},
   "outputs": [],
   "source": [
    "# Add Power Capacity Constraints\n",
    "for p in power_plants:\n",
    "    problem += power_generation[p] <= max_power_generation[p] * run_power_plant[p], f\"PowerCapacity_{p}\""
   ]
  },
  {
   "cell_type": "code",
   "execution_count": 36,
   "metadata": {},
   "outputs": [],
   "source": [
    "# Add Power Balance Constraints\n",
    "for p in power_plants:\n",
    "    problem += power_generation[p] == lpSum([power_sent[(c,p)] for c in cities if (c, p) in connections]), f\"PowerSent_{p}\""
   ]
  },
  {
   "cell_type": "code",
   "execution_count": 37,
   "metadata": {},
   "outputs": [],
   "source": [
    "# Add Cities Powered Constraints\n",
    "for c in cities:\n",
    "    problem += power_required[c] == lpSum([power_sent[(c,p)] for p in power_plants if (c, p) in connections]), f\"PowerRequired_{c}\""
   ]
  },
  {
   "cell_type": "code",
   "execution_count": 39,
   "metadata": {},
   "outputs": [
    {
     "data": {
      "text/plain": [
       "1"
      ]
     },
     "execution_count": 39,
     "metadata": {},
     "output_type": "execute_result"
    }
   ],
   "source": [
    "# Solve the problem\n",
    "problem.solve()"
   ]
  },
  {
   "cell_type": "code",
   "execution_count": 40,
   "metadata": {},
   "outputs": [
    {
     "name": "stdout",
     "output_type": "stream",
     "text": [
      "Optimal\n"
     ]
    }
   ],
   "source": [
    "# Check the status of the solution\n",
    "status = LpStatus[problem.status]\n",
    "print(status)"
   ]
  },
  {
   "cell_type": "code",
   "execution_count": 43,
   "metadata": {},
   "outputs": [
    {
     "name": "stdout",
     "output_type": "stream",
     "text": [
      "PowerGeneration_P2 = 110.0\n",
      "PowerGeneration_P5 = 103.0\n",
      "PowerGeneration_P6 = 114.0\n",
      "PowerSent_('C1',_'P5') = 25.0\n",
      "PowerSent_('C2',_'P2') = 35.0\n",
      "PowerSent_('C3',_'P2') = 30.0\n",
      "PowerSent_('C4',_'P6') = 29.0\n",
      "PowerSent_('C5',_'P5') = 40.0\n",
      "PowerSent_('C6',_'P6') = 35.0\n",
      "PowerSent_('C7',_'P6') = 50.0\n",
      "PowerSent_('C8',_'P2') = 45.0\n",
      "PowerSent_('C9',_'P5') = 38.0\n",
      "StartPlant_P2 = 1.0\n",
      "StartPlant_P5 = 1.0\n",
      "StartPlant_P6 = 1.0\n"
     ]
    }
   ],
   "source": [
    "# Print the results\n",
    "for v in problem.variables():\n",
    "    if v.varValue != 0:\n",
    "        print(v.name, \"=\", v.varValue)"
   ]
  },
  {
   "cell_type": "code",
   "execution_count": 50,
   "metadata": {},
   "outputs": [
    {
     "name": "stdout",
     "output_type": "stream",
     "text": [
      "Plant: P2 Generation: 110.0 Utilization: 73.33%\n",
      "Plant: P5 Generation: 103.0 Utilization: 58.86%\n",
      "Plant: P6 Generation: 114.0 Utilization: 69.09%\n"
     ]
    }
   ],
   "source": [
    "# Let's look at the Plant Utilization\n",
    "for p in power_plants:\n",
    "    if power_generation[p].varValue > 0:\n",
    "        utilization = (power_generation[p].varValue / max_power_generation[p]) * 100\n",
    "        print(f\"Plant: {p} Generation: {power_generation[p].varValue} Utilization: {utilization:.2f}%\")"
   ]
  },
  {
   "cell_type": "code",
   "execution_count": null,
   "metadata": {},
   "outputs": [],
   "source": []
  }
 ],
 "metadata": {
  "file_extension": ".py",
  "kernelspec": {
   "display_name": "Python 3",
   "language": "python",
   "name": "python3"
  },
  "language_info": {
   "codemirror_mode": {
    "name": "ipython",
    "version": 3
   },
   "file_extension": ".py",
   "mimetype": "text/x-python",
   "name": "python",
   "nbconvert_exporter": "python",
   "pygments_lexer": "ipython3",
   "version": "3.7.4"
  },
  "mimetype": "text/x-python",
  "name": "python",
  "npconvert_exporter": "python",
  "pygments_lexer": "ipython3",
  "version": 3
 },
 "nbformat": 4,
 "nbformat_minor": 2
}
