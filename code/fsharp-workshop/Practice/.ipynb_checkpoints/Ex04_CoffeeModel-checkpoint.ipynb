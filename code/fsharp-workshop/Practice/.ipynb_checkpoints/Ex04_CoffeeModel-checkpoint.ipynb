{
 "cells": [
  {
   "cell_type": "markdown",
   "metadata": {},
   "source": [
    "# Coffee Model"
   ]
  },
  {
   "cell_type": "markdown",
   "metadata": {},
   "source": [
    "## Import Flips"
   ]
  },
  {
   "cell_type": "code",
   "execution_count": null,
   "metadata": {},
   "outputs": [],
   "source": [
    "// Import Flips and open System, Flips.Domain, and Flips.Solve\n",
    "#r \"nuget: Flips, Version=1.2.3\"\n",
    "\n",
    "open System\n",
    "open Flips.Domain\n",
    "open Flips.Solve"
   ]
  },
  {
   "cell_type": "code",
   "execution_count": null,
   "metadata": {},
   "outputs": [],
   "source": [
    "let locations = [\"Sellwood\"; \"Hawthorne\"; \"The Pearl\"; \"Eastmoreland\"; \"St. Johns\"; \"Alberta\"; \"Nob Hill\"; \"Belmont\"]\n",
    "\n",
    "let roasterCost = [\"Sellwood\", 150000; \"Hawthorne\", 100000; \"The Pearl\", 250000; \"Eastmoreland\", 120000; \"St. Johns\", 130000;\n",
    "                   \"Alberta\", 110000; \"Nob Hill\", 135000; \"Belmont\", 180000] |> Map.ofSeq\n",
    "                   \n",
    "let roasterCapacity = [\"Sellwood\", 12; \"Hawthorne\", 18; \"The Pearl\", 22; \"Eastmoreland\", 13;\n",
    "                       \"St. Johns\", 14; \"Alberta\", 10; \"Nob Hill\", 17; \"Belmont\", 12] |> Map.ofSeq\n",
    "                       \n",
    "let warehouseCost = [\"Sellwood\", 80000; \"Hawthorne\", 90000; \"The Pearl\", 120000; \"Eastmoreland\", 90000;\n",
    "                     \"St. Johns\", 85000; \"Alberta\", 70000; \"Nob Hill\", 85000; \"Belmont\", 90000] |> Map.ofSeq\n",
    "                     \n",
    "let warehouseSize = [\"Sellwood\", 8000; \"Hawthorne\", 6000; \"The Pearl\", 12000; \"Eastmoreland\", 6000;\n",
    "                     \"St. Johns\", 7000; \"Alberta\", 9000; \"Nob Hill\", 6000; \"Belmont\", 9200] |> Map.ofSeq\n",
    "                     \n",
    "let minWarehouseCapacity = 30000\n",
    "let minRoastingCapacity = 30    "
   ]
  },
  {
   "cell_type": "markdown",
   "metadata": {},
   "source": [
    "## Step 1: Create Decision Variables"
   ]
  },
  {
   "cell_type": "code",
   "execution_count": null,
   "metadata": {},
   "outputs": [],
   "source": [
    "// Create variables to indicate whether to build a Roaster at a given location\n",
    "\n",
    "// Create variables to indicate whether or not to build a Warehouse at a given location\n"
   ]
  },
  {
   "cell_type": "markdown",
   "metadata": {},
   "source": [
    "## Step 2: Create the Objective"
   ]
  },
  {
   "cell_type": "code",
   "execution_count": null,
   "metadata": {},
   "outputs": [],
   "source": [
    "// Create an objective expression (Sum of the costs of Roasters and Warehouses)\n",
    "\n",
    "// Create the Objective (minimize cost)\n"
   ]
  },
  {
   "cell_type": "markdown",
   "metadata": {},
   "source": [
    "## Step 3: Add Constraints"
   ]
  },
  {
   "cell_type": "code",
   "execution_count": null,
   "metadata": {},
   "outputs": [],
   "source": [
    "// Total Roasting capacity must be greater than 30 tons\n",
    "\n",
    "// Total Warehouse size must be greater than 30000 sq. ft.\n",
    "\n",
    "// Warehouse must exist where there is a roasting plant\n"
   ]
  },
  {
   "cell_type": "markdown",
   "metadata": {},
   "source": [
    "## Step 4: Create the Model"
   ]
  },
  {
   "cell_type": "code",
   "execution_count": null,
   "metadata": {},
   "outputs": [],
   "source": [
    "// Create the model and add constraints\n"
   ]
  },
  {
   "cell_type": "markdown",
   "metadata": {},
   "source": [
    "## Step 5: Create the Settings and Solve"
   ]
  },
  {
   "cell_type": "code",
   "execution_count": null,
   "metadata": {},
   "outputs": [],
   "source": [
    "// Create the solver settings\n",
    "\n",
    "// Solve the model and save the results\n"
   ]
  },
  {
   "cell_type": "markdown",
   "metadata": {},
   "source": [
    "## Step 6: Print the Results"
   ]
  },
  {
   "cell_type": "code",
   "execution_count": null,
   "metadata": {},
   "outputs": [],
   "source": [
    "printfn \"--Results--\"\n",
    "// Print the results of the solver    \n",
    "    "
   ]
  }
 ],
 "metadata": {
  "kernelspec": {
   "display_name": ".NET (F#)",
   "language": "F#",
   "name": ".net-fsharp"
  },
  "language_info": {
   "file_extension": ".fs",
   "mimetype": "text/x-fsharp",
   "name": "C#",
   "pygments_lexer": "fsharp",
   "version": "4.5"
  }
 },
 "nbformat": 4,
 "nbformat_minor": 4
}
