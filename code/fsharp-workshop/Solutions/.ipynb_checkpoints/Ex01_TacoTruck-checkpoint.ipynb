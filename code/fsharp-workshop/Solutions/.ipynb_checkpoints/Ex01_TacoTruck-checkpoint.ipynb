{
 "cells": [
  {
   "cell_type": "markdown",
   "metadata": {},
   "source": [
    "# Taco Truck Problem"
   ]
  },
  {
   "cell_type": "markdown",
   "metadata": {},
   "source": [
    "## Import Flips Library\n",
    "\n",
    "Import the Flips library by typing `#r \"nuget: Flips, Version=2.0.0\"`\n",
    "\n",
    "This exercise will rely on `System`, `Flips.Domain`, and `Flips.Solve`"
   ]
  },
  {
   "cell_type": "code",
   "execution_count": null,
   "metadata": {},
   "outputs": [],
   "source": [
    "//import Flips below\n",
    "\n",
    "\n",
    "\n",
    "open System\n",
    "open Flips.Domain\n",
    "open Flips.Solve"
   ]
  },
  {
   "cell_type": "markdown",
   "metadata": {},
   "source": [
    "## Step 1: Create Decision Variables\n",
    "\n",
    "Create decision variables using the `Decision` module, namely the `Decision.createContinuous` function. This function takes a `variable name`, `lower bound`, and `upper bound` as parameters.\n",
    "\n",
    "```fsharp\n",
    "let numberOfHotdogs = Decision.createContinuous \"NumberofHotdogs\" 0.0 infinity\n",
    "```"
   ]
  },
  {
   "cell_type": "code",
   "execution_count": null,
   "metadata": {},
   "outputs": [],
   "source": [
    "// Create a decision variable for the number of burgers below\n",
    "\n",
    "// Create a decision variable for the number of tacos below\n"
   ]
  },
  {
   "cell_type": "markdown",
   "metadata": {},
   "source": [
    "## Step 2: Create the Objective\n",
    "\n",
    "Create an objective expression using your variables using your decision variables and the parameters given. Then create an objective based on that using `Objective.create`. This function takes the `objective name`, `goal` (Maximize or Minimize), and `objective expression` as parameters.\n",
    "\n",
    "```fsharp\n",
    "let objectiveExpression = 1.50*numberOfHamburgers+1.0*numberOfTacos\n",
    "let objective = Objective.create \"MaximizeRevenue\" Maximize objectiveExpression\n",
    "```\n",
    "\n",
    "*or*\n",
    "\n",
    "```fsharp\n",
    "let objective = Objective.create \"MaximizeRevenue\" Maximize (1.50*numberOfHamburgers+1.0*numberOfTacos)\n",
    "```"
   ]
  },
  {
   "cell_type": "code",
   "execution_count": 1,
   "metadata": {},
   "outputs": [
    {
     "data": {
      "text/html": [
       "<script type=\"text/javascript\">#!javascript\r\n",
       "if ((typeof(requirejs) !==  typeof(Function)) || (typeof(requirejs.config) !== typeof(Function))) { \r\n",
       "    let script = document.createElement(\"script\"); \r\n",
       "    script.setAttribute(\"src\", \"https://cdnjs.cloudflare.com/ajax/libs/require.js/2.3.6/require.min.js\"); \r\n",
       "    script.onload = function(){\r\n",
       "        loadDotnetInteractiveApi();\r\n",
       "    };\r\n",
       "    document.getElementsByTagName(\"head\")[0].appendChild(script); \r\n",
       "}\r\n",
       "else {\r\n",
       "    loadDotnetInteractiveApi();\r\n",
       "}\r\n",
       "\r\n",
       "function loadDotnetInteractiveApi(){\r\n",
       "    let apiRequire = requirejs.config({context:\"dotnet-interactive.26036.51800\",paths:{dotnetInteractive:\"http://localhost:51800/resources/dotnet-interactive\"}});\r\n",
       "    apiRequire(['dotnetInteractive'], \r\n",
       "    function(api) {       \r\n",
       "        api.createDotnetInteractiveClient(\"http://localhost:51800/\", window);\r\n",
       "    },\r\n",
       "    function(error){\r\n",
       "        console.log(error);\r\n",
       "    });\r\n",
       "}</script>"
      ]
     },
     "metadata": {},
     "output_type": "display_data"
    }
   ],
   "source": [
    "// Create an objective expression here\n",
    "\n",
    "// Create an objective here"
   ]
  },
  {
   "cell_type": "markdown",
   "metadata": {},
   "source": [
    "## Step 3: Create Constraints\n",
    "\n",
    "Create constraints based on those given in the problem using `Constraint.Create`. This function takes the `constraint name` and `constraint expression` as parameters.\n",
    "\n",
    "*Note*: Due to .NET standards regarding the use of `>=`, `<=`, and `=`, this library uses `>==`, `<==`, and `==` as the operators for comparison. \n",
    "\n",
    "```fsharp\n",
    "let maxHotDogs = Constraint.Create \"MaxHotDogs\" (numberOfHotDogs <== hotdogBuns)\n",
    "```"
   ]
  },
  {
   "cell_type": "code",
   "execution_count": null,
   "metadata": {},
   "outputs": [],
   "source": [
    "// Create a constraint for the max number of Burgers\n",
    "\n",
    "// Create a constraint for the max number of Tacos\n",
    "\n",
    "// Create a constraint for the total weight\n"
   ]
  },
  {
   "cell_type": "markdown",
   "metadata": {},
   "source": [
    "## Step 4: Create the Model\n",
    "\n",
    "Using the `Model` module, you can create a model using `Model.create` (which takes the `objective` as a parameter). Then add the constraints using `Model.addConstraint`, passing in the `constraint`. This is all done using the pipe (`|>`) operator.\n",
    "\n",
    "```fsharp\n",
    "let model =\n",
    "    Model.create objective\n",
    "    |> Model.addConstraint maxHotDogs\n",
    "    |> Model.addConstraint maxWeight\n",
    "```"
   ]
  },
  {
   "cell_type": "code",
   "execution_count": null,
   "metadata": {},
   "outputs": [],
   "source": [
    "// Create the model below\n"
   ]
  },
  {
   "cell_type": "markdown",
   "metadata": {},
   "source": [
    "## Step 5: Create Settings and Solve\n",
    "\n",
    "To solve the model, create the settings needed to run the model using `SolverSettings`. For this problem we will use the CBC solver and allow 10 seconds (10,000 ms) for solving. There is an option to write to an LP file, but for now, specify it as `None`.\n",
    "\n",
    "```fsharp\n",
    "let settings = {\n",
    "    SolverType = SolverType.CBC\n",
    "    MaxDuration = 10_000L\n",
    "    WriteLPFile = None\n",
    "}\n",
    "```\n",
    "\n",
    "From there, run the `solve` function using the model and the solver settings.\n",
    "\n",
    "```fsharp\n",
    "let result = solve settings model\n",
    "```"
   ]
  },
  {
   "cell_type": "code",
   "execution_count": null,
   "metadata": {},
   "outputs": [],
   "source": [
    "// Create solver settings below\n",
    "\n",
    "// Store result of solved model below\n"
   ]
  },
  {
   "cell_type": "markdown",
   "metadata": {},
   "source": [
    "## Step 6: Print Results\n",
    "\n",
    "The value of `result` will either be `Optimal` if it found the optimal solution or `Suboptimal` if it ran out of time.\n",
    "\n",
    "```fsharp\n",
    "match result with\n",
    "| Suboptimal msg -> printfn \"Unable to solve. Error: %s\" msg\n",
    "| Optimal solution ->\n",
    "    printfn \"Objective Value: %f\" solution.ObjectiveResult\n",
    "\n",
    "    for (decision, value) in solution.DecisionResults |> Map.toSeq do\n",
    "        let (DecisionName name) = decision.Name\n",
    "        printfn \"Decision: %s\\tValue: %f\" name value\n",
    "```"
   ]
  },
  {
   "cell_type": "code",
   "execution_count": null,
   "metadata": {},
   "outputs": [],
   "source": [
    "printfn \"--Result--\"\n",
    "\n",
    "// Print the results of the solver below\n",
    "    "
   ]
  }
 ],
 "metadata": {
  "kernelspec": {
   "display_name": ".NET (F#)",
   "language": "F#",
   "name": ".net-fsharp"
  },
  "language_info": {
   "file_extension": ".fs",
   "mimetype": "text/x-fsharp",
   "name": "C#",
   "pygments_lexer": "fsharp",
   "version": "4.5"
  }
 },
 "nbformat": 4,
 "nbformat_minor": 4
}