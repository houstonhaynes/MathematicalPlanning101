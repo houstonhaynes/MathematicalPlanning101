{
 "cells": [
  {
   "cell_type": "markdown",
   "metadata": {},
   "source": [
    "# Power Planning Model"
   ]
  },
  {
   "cell_type": "markdown",
   "metadata": {},
   "source": [
    "## Import Flips"
   ]
  },
  {
   "cell_type": "code",
   "execution_count": null,
   "metadata": {},
   "outputs": [],
   "source": [
    "// Import Flips, and open System, Flips.Domain, and Flips.Solve\n"
   ]
  },
  {
   "cell_type": "code",
   "execution_count": 4,
   "metadata": {},
   "outputs": [],
   "source": [
    "// Setup sets\n",
    "let cities = [\"C1\"; \"C2\"; \"C3\"; \"C4\"; \"C5\"; \"C6\"; \"C7\"; \"C8\"; \"C9\"]\n",
    "\n",
    "let powerPlants = [\"P1\"; \"P2\"; \"P3\"; \"P4\"; \"P5\"; \"P6\"]\n",
    "\n",
    "let connections = [\n",
    "    (\"C1\", \"P1\"); (\"C1\", \"P3\"); (\"C1\", \"P5\");\n",
    "    (\"C2\", \"P1\"); (\"C2\", \"P2\"); (\"C2\",\"P4\");\n",
    "    (\"C3\", \"P2\"); (\"C3\", \"P3\"); (\"C3\",\"P4\");\n",
    "    (\"C4\", \"P2\"); (\"C4\", \"P4\"); (\"C4\",\"P6\");\n",
    "    (\"C5\", \"P2\"); (\"C5\", \"P5\"); (\"C5\",\"P6\");\n",
    "    (\"C6\", \"P3\"); (\"C6\", \"P4\"); (\"C6\",\"P6\");\n",
    "    (\"C7\", \"P1\"); (\"C7\", \"P3\"); (\"C7\",\"P6\");\n",
    "    (\"C8\", \"P2\"); (\"C8\", \"P3\"); (\"C8\",\"P4\");\n",
    "    (\"C9\", \"P3\"); (\"C9\", \"P5\"); (\"C9\",\"P6\")\n",
    "]\n",
    "    \n",
    "// Setup parameters\n",
    "let maxPowerGeneration = [\"P1\", 100.0; \"P2\", 150.0; \"P3\", 250.0; \"P4\", 125.0; \"P5\", 175.0; \"P6\", 165.0] |> Map.ofSeq\n",
    "\n",
    "let startupCost = [\"P1\", 50.0; \"P2\", 80.0; \"P3\", 90.0; \"P4\", 60.0; \"P5\", 60.0; \"P6\", 70.0] |> Map.ofSeq\n",
    "\n",
    "let powerCost = [\"P1\", 2.0; \"P2\", 1.5; \"P3\", 1.2; \"P4\", 1.8; \"P5\", 0.8; \"P6\", 1.1] |> Map.ofSeq\n",
    "\n",
    "let powerRequired = [\"C1\", 25.0; \"C2\", 35.0; \"C3\", 30.0; \"C4\", 125.0; \"C5\", 40.0; \"C6\", 35.0; \"C7\", 50.0; \"C8\", 45.0; \"C9\", 38.0] |> Map.ofSeq"
   ]
  },
  {
   "cell_type": "markdown",
   "metadata": {},
   "source": [
    "## Step 1: Create Decision Variables"
   ]
  },
  {
   "cell_type": "code",
   "execution_count": null,
   "metadata": {},
   "outputs": [],
   "source": [
    "// Create decision variables\n"
   ]
  },
  {
   "cell_type": "markdown",
   "metadata": {},
   "source": [
    "## Step 2: Create the Objective"
   ]
  },
  {
   "cell_type": "code",
   "execution_count": null,
   "metadata": {},
   "outputs": [],
   "source": [
    "// Create an objective function\n",
    "\n",
    "// Create the Objective\n"
   ]
  },
  {
   "cell_type": "markdown",
   "metadata": {},
   "source": [
    "## Step 3: Add Constraints"
   ]
  },
  {
   "cell_type": "code",
   "execution_count": null,
   "metadata": {},
   "outputs": [],
   "source": [
    "// Add Power Capacity Constraints\n",
    "\n",
    "// Add Power Balance Constraints\n",
    "\n",
    "// Add Cities Powered Constraints\n"
   ]
  },
  {
   "cell_type": "markdown",
   "metadata": {},
   "source": [
    "## Step 4: Create the Model"
   ]
  },
  {
   "cell_type": "code",
   "execution_count": null,
   "metadata": {},
   "outputs": [],
   "source": [
    "// Create the model and add constraints\n"
   ]
  },
  {
   "cell_type": "markdown",
   "metadata": {},
   "source": [
    "## Step 5: Create the Settings and Solve"
   ]
  },
  {
   "cell_type": "code",
   "execution_count": null,
   "metadata": {},
   "outputs": [],
   "source": [
    "// Create the solver settings\n",
    "\n",
    "// Solve the model and save the result\n"
   ]
  },
  {
   "cell_type": "markdown",
   "metadata": {},
   "source": [
    "## Step 6: Print the Results"
   ]
  },
  {
   "cell_type": "code",
   "execution_count": null,
   "metadata": {},
   "outputs": [],
   "source": [
    "printfn \"--Results--\"\n",
    "// Print the results\n"
   ]
  }
 ],
 "metadata": {
  "kernelspec": {
   "display_name": ".NET (F#)",
   "language": "F#",
   "name": ".net-fsharp"
  },
  "language_info": {
   "file_extension": ".fs",
   "mimetype": "text/x-fsharp",
   "name": "C#",
   "pygments_lexer": "fsharp",
   "version": "4.5"
  }
 },
 "nbformat": 4,
 "nbformat_minor": 4
}
