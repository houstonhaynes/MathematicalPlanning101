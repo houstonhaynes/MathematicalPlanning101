{
 "cells": [
  {
   "cell_type": "markdown",
   "metadata": {},
   "source": [
    "# Farm Model"
   ]
  },
  {
   "cell_type": "markdown",
   "metadata": {},
   "source": [
    "## Import Flips\n",
    "\n",
    "Import Flips and open `System`, `Flips.Domain`, and `Flips.Solve`"
   ]
  },
  {
   "cell_type": "code",
   "execution_count": 1,
   "metadata": {},
   "outputs": [
    {
     "data": {
      "text/html": [
       "<script type=\"text/javascript\">#!javascript\r\n",
       "if ((typeof(requirejs) !==  typeof(Function)) || (typeof(requirejs.config) !== typeof(Function))) { \r\n",
       "    let script = document.createElement(\"script\"); \r\n",
       "    script.setAttribute(\"src\", \"https://cdnjs.cloudflare.com/ajax/libs/require.js/2.3.6/require.min.js\"); \r\n",
       "    script.onload = function(){\r\n",
       "        loadDotnetInteractiveApi();\r\n",
       "    };\r\n",
       "    document.getElementsByTagName(\"head\")[0].appendChild(script); \r\n",
       "}\r\n",
       "else {\r\n",
       "    loadDotnetInteractiveApi();\r\n",
       "}\r\n",
       "\r\n",
       "function loadDotnetInteractiveApi(){\r\n",
       "    let apiRequire = requirejs.config({context:\"dotnet-interactive.20848.64922\",paths:{dotnetInteractive:\"http://localhost:64922/resources/dotnet-interactive\"}});\r\n",
       "    apiRequire(['dotnetInteractive'], \r\n",
       "    function(api) {       \r\n",
       "        api.createDotnetInteractiveClient(\"http://localhost:64922/\", window);\r\n",
       "    },\r\n",
       "    function(error){\r\n",
       "        console.log(error);\r\n",
       "    });\r\n",
       "}</script>"
      ]
     },
     "metadata": {},
     "output_type": "display_data"
    },
    {
     "data": {
      "text/html": [
       "Installed package Flips version 1.2.3"
      ]
     },
     "metadata": {},
     "output_type": "display_data"
    }
   ],
   "source": [
    "#r \"nuget: Flips, Version=1.2.3\"\n",
    "    \n",
    "open System\n",
    "open Flips.Domain\n",
    "open Flips.Solve\n"
   ]
  },
  {
   "cell_type": "markdown",
   "metadata": {},
   "source": [
    "## Step 1: Create the Decision Variables"
   ]
  },
  {
   "cell_type": "code",
   "execution_count": 2,
   "metadata": {},
   "outputs": [],
   "source": [
    "// Create decision variables for cows, pigs, and chickens\n",
    "let cows = Decision.createContinuous \"NumberOfCows\" 0.0 infinity\n",
    "let pigs = Decision.createContinuous \"NumberOfPigs\" 0.0 infinity\n",
    "let chickens = Decision.createContinuous \"NumberOfChickens\" 0.0 infinity"
   ]
  },
  {
   "cell_type": "markdown",
   "metadata": {},
   "source": [
    "## Step 2: Create the Objective"
   ]
  },
  {
   "cell_type": "code",
   "execution_count": 3,
   "metadata": {},
   "outputs": [],
   "source": [
    "// Create an objective expression\n",
    "let objectiveExpression = 100.0*cows + 50.0*pigs + 8.0*chickens \n",
    "// Create an objective\n",
    "let objective = Objective.create \"MaximizeRevenue\" Maximize objectiveExpression"
   ]
  },
  {
   "cell_type": "markdown",
   "metadata": {},
   "source": [
    "## Step 3: Add Constraints"
   ]
  },
  {
   "cell_type": "code",
   "execution_count": 4,
   "metadata": {},
   "outputs": [],
   "source": [
    "// Add constraint for amount of Pasture\n",
    "let maxPasture = Constraint.create \"MaxPasture\" (1.0*cows + 0.2*pigs <== 1000.0)\n",
    "// Add constraint for amount of Feed\n",
    "let maxFeed = Constraint.create \"MaxFeed\" (1.0*pigs + 0.1*chickens <== 100.0)\n",
    "// Add constraint for amount of Labor\n",
    "let maxLabor = Constraint.create \"MaxLabor\" (9.5*cows + 8.0*pigs <== 7200.0)"
   ]
  },
  {
   "cell_type": "markdown",
   "metadata": {},
   "source": [
    "## Step 4: Create the model"
   ]
  },
  {
   "cell_type": "code",
   "execution_count": 5,
   "metadata": {},
   "outputs": [],
   "source": [
    "// Create the model and add the constraints\n",
    "let model =\n",
    "    Model.create objective\n",
    "    |> Model.addConstraint maxPasture\n",
    "    |> Model.addConstraint maxFeed\n",
    "    |> Model.addConstraint maxLabor"
   ]
  },
  {
   "cell_type": "markdown",
   "metadata": {},
   "source": [
    "## Step 5: Create the Settings and Solve"
   ]
  },
  {
   "cell_type": "code",
   "execution_count": 6,
   "metadata": {},
   "outputs": [
    {
     "ename": "Unhandled exception",
     "evalue": "System.TypeInitializationException: The type initializer for 'Google.OrTools.LinearSolver.operations_research_linear_solverPINVOKE' threw an exception.\r\n ---> System.TypeInitializationException: The type initializer for 'SWIGExceptionHelper' threw an exception.\r\n ---> System.DllNotFoundException: Unable to load DLL 'google-ortools-native' or one of its dependencies: The specified module could not be found. (0x8007007E)\r\n   at Google.OrTools.LinearSolver.operations_research_linear_solverPINVOKE.SWIGExceptionHelper.SWIGRegisterExceptionCallbacks_operations_research_linear_solver(ExceptionDelegate applicationDelegate, ExceptionDelegate arithmeticDelegate, ExceptionDelegate divideByZeroDelegate, ExceptionDelegate indexOutOfRangeDelegate, ExceptionDelegate invalidCastDelegate, ExceptionDelegate invalidOperationDelegate, ExceptionDelegate ioDelegate, ExceptionDelegate nullReferenceDelegate, ExceptionDelegate outOfMemoryDelegate, ExceptionDelegate overflowDelegate, ExceptionDelegate systemExceptionDelegate)\r\n   at Google.OrTools.LinearSolver.operations_research_linear_solverPINVOKE.SWIGExceptionHelper..cctor()\r\n   --- End of inner exception stack trace ---\r\n   at Google.OrTools.LinearSolver.operations_research_linear_solverPINVOKE.SWIGExceptionHelper..ctor()\r\n   at Google.OrTools.LinearSolver.operations_research_linear_solverPINVOKE..cctor()\r\n   --- End of inner exception stack trace ---\r\n   at Google.OrTools.LinearSolver.operations_research_linear_solverPINVOKE.new_Solver(String jarg1, Int32 jarg2)\r\n   at Google.OrTools.LinearSolver.Solver..ctor(String name, OptimizationProblemType problem_type)\r\n   at Google.OrTools.LinearSolver.Solver.CreateSolver(String name, String type)\r\n   at Flips.Solve.solve(SolverSettings settings, Model model)\r\n   at <StartupCode$FSI_0011>.$FSI_0011.main@()",
     "output_type": "error",
     "traceback": [
      "System.TypeInitializationException: The type initializer for 'Google.OrTools.LinearSolver.operations_research_linear_solverPINVOKE' threw an exception.\r\n ---> System.TypeInitializationException: The type initializer for 'SWIGExceptionHelper' threw an exception.\r\n ---> System.DllNotFoundException: Unable to load DLL 'google-ortools-native' or one of its dependencies: The specified module could not be found. (0x8007007E)\r\n   at Google.OrTools.LinearSolver.operations_research_linear_solverPINVOKE.SWIGExceptionHelper.SWIGRegisterExceptionCallbacks_operations_research_linear_solver(ExceptionDelegate applicationDelegate, ExceptionDelegate arithmeticDelegate, ExceptionDelegate divideByZeroDelegate, ExceptionDelegate indexOutOfRangeDelegate, ExceptionDelegate invalidCastDelegate, ExceptionDelegate invalidOperationDelegate, ExceptionDelegate ioDelegate, ExceptionDelegate nullReferenceDelegate, ExceptionDelegate outOfMemoryDelegate, ExceptionDelegate overflowDelegate, ExceptionDelegate systemExceptionDelegate)\r\n   at Google.OrTools.LinearSolver.operations_research_linear_solverPINVOKE.SWIGExceptionHelper..cctor()\r\n   --- End of inner exception stack trace ---\r\n   at Google.OrTools.LinearSolver.operations_research_linear_solverPINVOKE.SWIGExceptionHelper..ctor()\r\n   at Google.OrTools.LinearSolver.operations_research_linear_solverPINVOKE..cctor()\r\n   --- End of inner exception stack trace ---\r\n   at Google.OrTools.LinearSolver.operations_research_linear_solverPINVOKE.new_Solver(String jarg1, Int32 jarg2)\r\n   at Google.OrTools.LinearSolver.Solver..ctor(String name, OptimizationProblemType problem_type)\r\n   at Google.OrTools.LinearSolver.Solver.CreateSolver(String name, String type)\r\n   at Flips.Solve.solve(SolverSettings settings, Model model)\r\n   at <StartupCode$FSI_0011>.$FSI_0011.main@()",
      "   at Google.OrTools.LinearSolver.operations_research_linear_solverPINVOKE.new_Solver(String jarg1, Int32 jarg2)",
      "   at Google.OrTools.LinearSolver.Solver..ctor(String name, OptimizationProblemType problem_type)",
      "   at Google.OrTools.LinearSolver.Solver.CreateSolver(String name, String type)",
      "   at Flips.Solve.solve(SolverSettings settings, Model model)",
      "   at <StartupCode$FSI_0011>.$FSI_0011.main@()"
     ]
    }
   ],
   "source": [
    "// Create the solver settings\n",
    "let settings = {\n",
    "    SolverType = SolverType.CBC\n",
    "    MaxDuration = 10_000L\n",
    "    WriteLPFile = None\n",
    "}\n",
    "// Solve the model and save the results\n",
    "let result = solve settings model"
   ]
  },
  {
   "cell_type": "markdown",
   "metadata": {},
   "source": [
    "## Step 6: Print Results"
   ]
  },
  {
   "cell_type": "code",
   "execution_count": 7,
   "metadata": {},
   "outputs": [
    {
     "name": "stdout",
     "output_type": "stream",
     "text": [
      "\"FSharp.Core, Version=4.7.0.0, Culture=neutral, PublicKeyToken=b03f5f7f11d50a3a\"\n"
     ]
    },
    {
     "data": {
      "text/html": [
       "<null>"
      ]
     },
     "execution_count": 7,
     "metadata": {},
     "output_type": "execute_result"
    }
   ],
   "source": [
    "printfn \"%A\" typeof<list<_>>.Assembly.FullName"
   ]
  },
  {
   "cell_type": "code",
   "execution_count": null,
   "metadata": {},
   "outputs": [],
   "source": [
    "printfn \"--Results--\"\n",
    "// Print the results of the solver\n",
    "    "
   ]
  }
 ],
 "metadata": {
  "kernelspec": {
   "display_name": ".NET (F#)",
   "language": "F#",
   "name": ".net-fsharp"
  },
  "language_info": {
   "file_extension": ".fs",
   "mimetype": "text/x-fsharp",
   "name": "C#",
   "pygments_lexer": "fsharp",
   "version": "4.5"
  }
 },
 "nbformat": 4,
 "nbformat_minor": 4
}