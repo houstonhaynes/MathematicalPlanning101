{
 "cells": [
  {
   "cell_type": "markdown",
   "metadata": {},
   "source": [
    "# Revised Farm Model"
   ]
  },
  {
   "cell_type": "markdown",
   "metadata": {},
   "source": [
    "## Import Flips"
   ]
  },
  {
   "cell_type": "code",
   "execution_count": null,
   "metadata": {},
   "outputs": [],
   "source": [
    "// Import Flips and open System, Flips.Domain, and Flips.Solve\n",
    "\n"
   ]
  },
  {
   "cell_type": "code",
   "execution_count": 6,
   "metadata": {},
   "outputs": [],
   "source": [
    "// Define the set of animals you are working with\n",
    "let animals = [\"cows\"; \"pigs\"; \"chickens\"]\n",
    "\n",
    "// Dictionary of Revenue indexed by Animal Type\n",
    "let revenue = [\"cows\", 100; \"pigs\", 50; \"chickens\", 8] |> Map.ofList\n",
    "\n",
    "// Dictionary of Pasture required per animal indexed by Animal Type\n",
    "let pasture = [\"cows\",1.0; \"pigs\",0.5; \"chickens\",0.0] |> Map.ofList\n",
    "\n",
    "// Dictionary of Feed required per animal indexed by Animal Type\n",
    "let feed = [\"cows\",0.0; \"pigs\",1.0; \"chickens\",0.1] |> Map.ofList\n",
    "\n",
    "// Dictionary of the Labor required per animal indexed by Animal Type\n",
    "let labor = [\"cows\",9.5; \"pigs\",8.0; \"chickens\",0.0] |> Map.ofList\n",
    "\n",
    "// Constants which determine the limits on our resources\n",
    "let total_pasture = 1000\n",
    "let total_feed = 100\n",
    "let total_labor = 7200"
   ]
  },
  {
   "cell_type": "markdown",
   "metadata": {},
   "source": [
    "## Step 1: Create the Decision Variables"
   ]
  },
  {
   "cell_type": "code",
   "execution_count": null,
   "metadata": {},
   "outputs": [],
   "source": [
    "// Create decision variables for all of the animals\n"
   ]
  },
  {
   "cell_type": "markdown",
   "metadata": {},
   "source": [
    "## Step 2: Create the Objective"
   ]
  },
  {
   "cell_type": "code",
   "execution_count": null,
   "metadata": {},
   "outputs": [],
   "source": [
    "// Create an objective expression\n",
    "\n",
    "// Create the objective"
   ]
  },
  {
   "cell_type": "markdown",
   "metadata": {},
   "source": [
    "## Step 3: Add Constraints"
   ]
  },
  {
   "cell_type": "code",
   "execution_count": null,
   "metadata": {},
   "outputs": [],
   "source": [
    "// Add the constraint for the total amount of pasture available\n",
    "\n",
    "// Add the constraint for the total amount of pasture available\n",
    "\n",
    "// Add the constraint for the total amount of labor available"
   ]
  },
  {
   "cell_type": "markdown",
   "metadata": {},
   "source": [
    "## Step 4: Create the Model"
   ]
  },
  {
   "cell_type": "code",
   "execution_count": null,
   "metadata": {},
   "outputs": [],
   "source": [
    "// Create the model and add the constraints\n"
   ]
  },
  {
   "cell_type": "markdown",
   "metadata": {},
   "source": [
    "## Step 5: Create the Settings and Solve"
   ]
  },
  {
   "cell_type": "code",
   "execution_count": 7,
   "metadata": {},
   "outputs": [],
   "source": [
    "// Create the solver settings\n",
    "\n",
    "// Solve the model and save the result\n"
   ]
  },
  {
   "cell_type": "markdown",
   "metadata": {},
   "source": [
    "## Step 6: Print the Results"
   ]
  },
  {
   "cell_type": "code",
   "execution_count": null,
   "metadata": {},
   "outputs": [],
   "source": [
    "printfn \"--Results--\"\n",
    "// Print the results of the solver\n",
    "    "
   ]
  }
 ],
 "metadata": {
  "kernelspec": {
   "display_name": ".NET (F#)",
   "language": "F#",
   "name": ".net-fsharp"
  },
  "language_info": {
   "file_extension": ".fs",
   "mimetype": "text/x-fsharp",
   "name": "C#",
   "pygments_lexer": "fsharp",
   "version": "4.5"
  }
 },
 "nbformat": 4,
 "nbformat_minor": 4
}
